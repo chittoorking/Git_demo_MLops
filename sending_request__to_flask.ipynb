{
 "cells": [
  {
   "cell_type": "markdown",
   "metadata": {},
   "source": [
    "https://www.askpython.com/python-modules/flask/semd-json-data-flask-app#:~:text=To%20send%20JSON%20data%20to%20a%20Flask%20application%20using%20the,the%20JSON%20data%20using%20request."
   ]
  },
  {
   "cell_type": "markdown",
   "metadata": {},
   "source": [
    "The Requests module is used to send HTTP requests using Python to retrieve the response data of an HTTP URL."
   ]
  },
  {
   "cell_type": "code",
   "execution_count": 1,
   "metadata": {},
   "outputs": [
    {
     "name": "stdout",
     "output_type": "stream",
     "text": [
      "Note: you may need to restart the kernel to use updated packages.\n"
     ]
    }
   ],
   "source": [
    "%pip install requests -q"
   ]
  },
  {
   "cell_type": "code",
   "execution_count": 2,
   "metadata": {},
   "outputs": [
    {
     "name": "stdout",
     "output_type": "stream",
     "text": [
      "JSON data sent successfully!\n"
     ]
    }
   ],
   "source": [
    "import requests\n",
    "url = 'http://127.0.0.1:5000/pulsarstar/v1/predict'\n",
    "\n",
    "json_data = {\"IP Mean\":140.5625,\n",
    "             \"IP Sd\":55.68378214,\n",
    "             \"IP Kurtosis\":-0.234571412,\n",
    "             \"IP Skewness\":-0.699648398,\n",
    "             \"DM-SNR Mean\":3.199832776,\n",
    "             \"DM-SNR Sd\":19.11042633,\n",
    "             \"DM-SNR Kurtosis\":7.975531794,\n",
    "             \"DM-SNR Skewness\":74.24222492}\n",
    "response = requests.post(url, json=json_data)\n",
    "if response.status_code == 200:\n",
    "    print('JSON data sent successfully!')\n",
    "else:\n",
    "    print('Failed to send JSON data:', response.status_code)"
   ]
  },
  {
   "cell_type": "code",
   "execution_count": 9,
   "metadata": {},
   "outputs": [
    {
     "data": {
      "text/plain": [
       "b'{\"prediction\":0}\\n'"
      ]
     },
     "execution_count": 9,
     "metadata": {},
     "output_type": "execute_result"
    }
   ],
   "source": [
    "response.content"
   ]
  },
  {
   "cell_type": "code",
   "execution_count": 3,
   "metadata": {},
   "outputs": [],
   "source": [
    "import json"
   ]
  },
  {
   "cell_type": "code",
   "execution_count": 11,
   "metadata": {},
   "outputs": [],
   "source": [
    "data = json.dumps(json_data)"
   ]
  },
  {
   "cell_type": "code",
   "execution_count": 12,
   "metadata": {},
   "outputs": [
    {
     "data": {
      "text/plain": [
       "'{\"IP Mean\": 140.5625, \"IP Sd\": 55.68378214, \"IP Kurtosis\": -0.234571412, \"IP Skewness\": -0.699648398, \"DM-SNR Mean\": 3.199832776, \"DM-SNR Sd\": 19.11042633, \"DM-SNR Kurtosis\": 7.975531794, \"DM-SNR Skewness\": 74.24222492}'"
      ]
     },
     "execution_count": 12,
     "metadata": {},
     "output_type": "execute_result"
    }
   ],
   "source": [
    "data"
   ]
  },
  {
   "cell_type": "code",
   "execution_count": 18,
   "metadata": {},
   "outputs": [
    {
     "name": "stdout",
     "output_type": "stream",
     "text": [
      "{\"prediction\":0}\n"
     ]
    },
    {
     "name": "stderr",
     "output_type": "stream",
     "text": [
      "  % Total    % Received % Xferd  Average Speed   Time    Time     Time  Current\n",
      "                                 Dload  Upload   Total   Spent    Left  Speed\n",
      "\n",
      "  0     0    0     0    0     0      0      0 --:--:-- --:--:-- --:--:--     0\n",
      "100   227  100    17  100   210    855  10565 --:--:-- --:--:-- --:--:-- 11947\n"
     ]
    }
   ],
   "source": [
    "!curl -L \"http://127.0.0.1:5000/pulsarstar/v1/predict\" -H \"Content-Type: application/json\" -d \"{\\\"IP Mean\\\":140.5625, \\\"IP Sd\\\":55.68378214, \\\"IP Kurtosis\\\":-0.234571412, \\\"IP Skewness\\\":-0.699648398, \\\"DM-SNR Mean\\\":3.199832776, \\\"DM-SNR Sd\\\":19.11042633, \\\"DM-SNR Kurtosis\\\":7.975531794,\\\"DM-SNR Skewness\\\":74.24222492}\""
   ]
  },
  {
   "attachments": {
    "image.png": {
     "image/png": "[encoded data removed]"
    }
   },
   "cell_type": "markdown",
   "metadata": {},
   "source": [
    "![image.png](attachment:image.png)"
   ]
  },
  {
   "cell_type": "code",
   "execution_count": null,
   "metadata": {},
   "outputs": [],
   "source": [
    "!docker push chittoorvamsi/pulsar-star:v1.2\n",
    "!docker pull chittoorvamsi/pulsar-star:v1.2"
   ]
  },
  {
   "cell_type": "code",
   "execution_count": null,
   "metadata": {},
   "outputs": [],
   "source": [
    "!docker exec -it 64ec /bin/bash"
   ]
  },
  {
   "cell_type": "code",
   "execution_count": 6,
   "metadata": {},
   "outputs": [],
   "source": [
    "import json"
   ]
  },
  {
   "cell_type": "code",
   "execution_count": 7,
   "metadata": {},
   "outputs": [
    {
     "name": "stdout",
     "output_type": "stream",
     "text": [
      "{'prediction': 0}\n"
     ]
    }
   ],
   "source": [
    "print(json.loads(response.content))"
   ]
  },
  {
   "cell_type": "code",
   "execution_count": null,
   "metadata": {},
   "outputs": [],
   "source": []
  }
 ],
 "metadata": {
  "kernelspec": {
   "display_name": "MLFLOW_test",
   "language": "python",
   "name": "python3"
  },
  "language_info": {
   "codemirror_mode": {
    "name": "ipython",
    "version": 3
   },
   "file_extension": ".py",
   "mimetype": "text/x-python",
   "name": "python",
   "nbconvert_exporter": "python",
   "pygments_lexer": "ipython3",
   "version": "3.12.9"
  }
 },
 "nbformat": 4,
 "nbformat_minor": 2
}
